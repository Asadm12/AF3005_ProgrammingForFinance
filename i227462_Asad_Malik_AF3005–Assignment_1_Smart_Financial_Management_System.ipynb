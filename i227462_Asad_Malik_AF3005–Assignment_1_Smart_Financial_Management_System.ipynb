{
  "nbformat": 4,
  "nbformat_minor": 0,
  "metadata": {
    "colab": {
      "provenance": []
    },
    "kernelspec": {
      "name": "python3",
      "display_name": "Python 3"
    },
    "language_info": {
      "name": "python"
    },
    "widgets": {
      "application/vnd.jupyter.widget-state+json": {
        "cf6a3d1580e946faa2410035c354a4d3": {
          "model_module": "@jupyter-widgets/controls",
          "model_name": "DropdownModel",
          "model_module_version": "1.5.0",
          "state": {
            "_dom_classes": [],
            "_model_module": "@jupyter-widgets/controls",
            "_model_module_version": "1.5.0",
            "_model_name": "DropdownModel",
            "_options_labels": [
              "Yes",
              "No"
            ],
            "_view_count": null,
            "_view_module": "@jupyter-widgets/controls",
            "_view_module_version": "1.5.0",
            "_view_name": "DropdownView",
            "description": "Employeed?: ",
            "description_tooltip": null,
            "disabled": false,
            "index": 0,
            "layout": "IPY_MODEL_223c0b952ff940b7ae1ab9e2f93eb4be",
            "style": "IPY_MODEL_bbac6942ddfb4203821fa996d94d774f"
          }
        },
        "223c0b952ff940b7ae1ab9e2f93eb4be": {
          "model_module": "@jupyter-widgets/base",
          "model_name": "LayoutModel",
          "model_module_version": "1.2.0",
          "state": {
            "_model_module": "@jupyter-widgets/base",
            "_model_module_version": "1.2.0",
            "_model_name": "LayoutModel",
            "_view_count": null,
            "_view_module": "@jupyter-widgets/base",
            "_view_module_version": "1.2.0",
            "_view_name": "LayoutView",
            "align_content": null,
            "align_items": null,
            "align_self": null,
            "border": null,
            "bottom": null,
            "display": null,
            "flex": null,
            "flex_flow": null,
            "grid_area": null,
            "grid_auto_columns": null,
            "grid_auto_flow": null,
            "grid_auto_rows": null,
            "grid_column": null,
            "grid_gap": null,
            "grid_row": null,
            "grid_template_areas": null,
            "grid_template_columns": null,
            "grid_template_rows": null,
            "height": null,
            "justify_content": null,
            "justify_items": null,
            "left": null,
            "margin": null,
            "max_height": null,
            "max_width": null,
            "min_height": null,
            "min_width": null,
            "object_fit": null,
            "object_position": null,
            "order": null,
            "overflow": null,
            "overflow_x": null,
            "overflow_y": null,
            "padding": null,
            "right": null,
            "top": null,
            "visibility": null,
            "width": null
          }
        },
        "bbac6942ddfb4203821fa996d94d774f": {
          "model_module": "@jupyter-widgets/controls",
          "model_name": "DescriptionStyleModel",
          "model_module_version": "1.5.0",
          "state": {
            "_model_module": "@jupyter-widgets/controls",
            "_model_module_version": "1.5.0",
            "_model_name": "DescriptionStyleModel",
            "_view_count": null,
            "_view_module": "@jupyter-widgets/base",
            "_view_module_version": "1.2.0",
            "_view_name": "StyleView",
            "description_width": ""
          }
        },
        "f38e5538bd934d829fcc0fc96ab30d98": {
          "model_module": "@jupyter-widgets/controls",
          "model_name": "IntSliderModel",
          "model_module_version": "1.5.0",
          "state": {
            "_dom_classes": [],
            "_model_module": "@jupyter-widgets/controls",
            "_model_module_version": "1.5.0",
            "_model_name": "IntSliderModel",
            "_view_count": null,
            "_view_module": "@jupyter-widgets/controls",
            "_view_module_version": "1.5.0",
            "_view_name": "IntSliderView",
            "continuous_update": true,
            "description": "Income:",
            "description_tooltip": null,
            "disabled": false,
            "layout": "IPY_MODEL_46361c27bb0648c1abceed6768bac8da",
            "max": 200000,
            "min": 0,
            "orientation": "horizontal",
            "readout": true,
            "readout_format": "d",
            "step": 1000,
            "style": "IPY_MODEL_818538f9ae3d4a0fa4dbb030dd040f98",
            "value": 140000
          }
        },
        "46361c27bb0648c1abceed6768bac8da": {
          "model_module": "@jupyter-widgets/base",
          "model_name": "LayoutModel",
          "model_module_version": "1.2.0",
          "state": {
            "_model_module": "@jupyter-widgets/base",
            "_model_module_version": "1.2.0",
            "_model_name": "LayoutModel",
            "_view_count": null,
            "_view_module": "@jupyter-widgets/base",
            "_view_module_version": "1.2.0",
            "_view_name": "LayoutView",
            "align_content": null,
            "align_items": null,
            "align_self": null,
            "border": null,
            "bottom": null,
            "display": null,
            "flex": null,
            "flex_flow": null,
            "grid_area": null,
            "grid_auto_columns": null,
            "grid_auto_flow": null,
            "grid_auto_rows": null,
            "grid_column": null,
            "grid_gap": null,
            "grid_row": null,
            "grid_template_areas": null,
            "grid_template_columns": null,
            "grid_template_rows": null,
            "height": null,
            "justify_content": null,
            "justify_items": null,
            "left": null,
            "margin": null,
            "max_height": null,
            "max_width": null,
            "min_height": null,
            "min_width": null,
            "object_fit": null,
            "object_position": null,
            "order": null,
            "overflow": null,
            "overflow_x": null,
            "overflow_y": null,
            "padding": null,
            "right": null,
            "top": null,
            "visibility": null,
            "width": null
          }
        },
        "818538f9ae3d4a0fa4dbb030dd040f98": {
          "model_module": "@jupyter-widgets/controls",
          "model_name": "SliderStyleModel",
          "model_module_version": "1.5.0",
          "state": {
            "_model_module": "@jupyter-widgets/controls",
            "_model_module_version": "1.5.0",
            "_model_name": "SliderStyleModel",
            "_view_count": null,
            "_view_module": "@jupyter-widgets/base",
            "_view_module_version": "1.2.0",
            "_view_name": "StyleView",
            "description_width": "",
            "handle_color": null
          }
        },
        "69cb753d85f6491b936b4045681e8260": {
          "model_module": "@jupyter-widgets/controls",
          "model_name": "IntSliderModel",
          "model_module_version": "1.5.0",
          "state": {
            "_dom_classes": [],
            "_model_module": "@jupyter-widgets/controls",
            "_model_module_version": "1.5.0",
            "_model_name": "IntSliderModel",
            "_view_count": null,
            "_view_module": "@jupyter-widgets/controls",
            "_view_module_version": "1.5.0",
            "_view_name": "IntSliderView",
            "continuous_update": true,
            "description": "Credit Score:",
            "description_tooltip": null,
            "disabled": false,
            "layout": "IPY_MODEL_d45ee204c89549d49c45943911243970",
            "max": 850,
            "min": 300,
            "orientation": "horizontal",
            "readout": true,
            "readout_format": "d",
            "step": 10,
            "style": "IPY_MODEL_c972ec26557b4808afc81f745336d177",
            "value": 480
          }
        },
        "d45ee204c89549d49c45943911243970": {
          "model_module": "@jupyter-widgets/base",
          "model_name": "LayoutModel",
          "model_module_version": "1.2.0",
          "state": {
            "_model_module": "@jupyter-widgets/base",
            "_model_module_version": "1.2.0",
            "_model_name": "LayoutModel",
            "_view_count": null,
            "_view_module": "@jupyter-widgets/base",
            "_view_module_version": "1.2.0",
            "_view_name": "LayoutView",
            "align_content": null,
            "align_items": null,
            "align_self": null,
            "border": null,
            "bottom": null,
            "display": null,
            "flex": null,
            "flex_flow": null,
            "grid_area": null,
            "grid_auto_columns": null,
            "grid_auto_flow": null,
            "grid_auto_rows": null,
            "grid_column": null,
            "grid_gap": null,
            "grid_row": null,
            "grid_template_areas": null,
            "grid_template_columns": null,
            "grid_template_rows": null,
            "height": null,
            "justify_content": null,
            "justify_items": null,
            "left": null,
            "margin": null,
            "max_height": null,
            "max_width": null,
            "min_height": null,
            "min_width": null,
            "object_fit": null,
            "object_position": null,
            "order": null,
            "overflow": null,
            "overflow_x": null,
            "overflow_y": null,
            "padding": null,
            "right": null,
            "top": null,
            "visibility": null,
            "width": null
          }
        },
        "c972ec26557b4808afc81f745336d177": {
          "model_module": "@jupyter-widgets/controls",
          "model_name": "SliderStyleModel",
          "model_module_version": "1.5.0",
          "state": {
            "_model_module": "@jupyter-widgets/controls",
            "_model_module_version": "1.5.0",
            "_model_name": "SliderStyleModel",
            "_view_count": null,
            "_view_module": "@jupyter-widgets/base",
            "_view_module_version": "1.2.0",
            "_view_name": "StyleView",
            "description_width": "",
            "handle_color": null
          }
        },
        "3dc43066178540ae9656672ef570fe29": {
          "model_module": "@jupyter-widgets/controls",
          "model_name": "ButtonModel",
          "model_module_version": "1.5.0",
          "state": {
            "_dom_classes": [],
            "_model_module": "@jupyter-widgets/controls",
            "_model_module_version": "1.5.0",
            "_model_name": "ButtonModel",
            "_view_count": null,
            "_view_module": "@jupyter-widgets/controls",
            "_view_module_version": "1.5.0",
            "_view_name": "ButtonView",
            "button_style": "",
            "description": "Check Eligibility",
            "disabled": false,
            "icon": "",
            "layout": "IPY_MODEL_1f22680590e741989a694d35cf77293b",
            "style": "IPY_MODEL_c6a4298b8ec14b96b0114e9eca0a69a2",
            "tooltip": ""
          }
        },
        "1f22680590e741989a694d35cf77293b": {
          "model_module": "@jupyter-widgets/base",
          "model_name": "LayoutModel",
          "model_module_version": "1.2.0",
          "state": {
            "_model_module": "@jupyter-widgets/base",
            "_model_module_version": "1.2.0",
            "_model_name": "LayoutModel",
            "_view_count": null,
            "_view_module": "@jupyter-widgets/base",
            "_view_module_version": "1.2.0",
            "_view_name": "LayoutView",
            "align_content": null,
            "align_items": null,
            "align_self": null,
            "border": null,
            "bottom": null,
            "display": null,
            "flex": null,
            "flex_flow": null,
            "grid_area": null,
            "grid_auto_columns": null,
            "grid_auto_flow": null,
            "grid_auto_rows": null,
            "grid_column": null,
            "grid_gap": null,
            "grid_row": null,
            "grid_template_areas": null,
            "grid_template_columns": null,
            "grid_template_rows": null,
            "height": null,
            "justify_content": null,
            "justify_items": null,
            "left": null,
            "margin": null,
            "max_height": null,
            "max_width": null,
            "min_height": null,
            "min_width": null,
            "object_fit": null,
            "object_position": null,
            "order": null,
            "overflow": null,
            "overflow_x": null,
            "overflow_y": null,
            "padding": null,
            "right": null,
            "top": null,
            "visibility": null,
            "width": null
          }
        },
        "c6a4298b8ec14b96b0114e9eca0a69a2": {
          "model_module": "@jupyter-widgets/controls",
          "model_name": "ButtonStyleModel",
          "model_module_version": "1.5.0",
          "state": {
            "_model_module": "@jupyter-widgets/controls",
            "_model_module_version": "1.5.0",
            "_model_name": "ButtonStyleModel",
            "_view_count": null,
            "_view_module": "@jupyter-widgets/base",
            "_view_module_version": "1.2.0",
            "_view_name": "StyleView",
            "button_color": null,
            "font_weight": ""
          }
        },
        "5376510a64a84f96824d2c608cad1df1": {
          "model_module": "@jupyter-widgets/controls",
          "model_name": "TextModel",
          "model_module_version": "1.5.0",
          "state": {
            "_dom_classes": [],
            "_model_module": "@jupyter-widgets/controls",
            "_model_module_version": "1.5.0",
            "_model_name": "TextModel",
            "_view_count": null,
            "_view_module": "@jupyter-widgets/controls",
            "_view_module_version": "1.5.0",
            "_view_name": "TextView",
            "continuous_update": true,
            "description": "Returns (%):",
            "description_tooltip": null,
            "disabled": false,
            "layout": "IPY_MODEL_81bef93de92740c2b726459b58ab874f",
            "placeholder": "Enter comma-separated returns (e.g., 10, -2, 5)",
            "style": "IPY_MODEL_fd5f4f594e2c4198943946de5ee28d2e",
            "value": "9, -10, 6"
          }
        },
        "81bef93de92740c2b726459b58ab874f": {
          "model_module": "@jupyter-widgets/base",
          "model_name": "LayoutModel",
          "model_module_version": "1.2.0",
          "state": {
            "_model_module": "@jupyter-widgets/base",
            "_model_module_version": "1.2.0",
            "_model_name": "LayoutModel",
            "_view_count": null,
            "_view_module": "@jupyter-widgets/base",
            "_view_module_version": "1.2.0",
            "_view_name": "LayoutView",
            "align_content": null,
            "align_items": null,
            "align_self": null,
            "border": null,
            "bottom": null,
            "display": null,
            "flex": null,
            "flex_flow": null,
            "grid_area": null,
            "grid_auto_columns": null,
            "grid_auto_flow": null,
            "grid_auto_rows": null,
            "grid_column": null,
            "grid_gap": null,
            "grid_row": null,
            "grid_template_areas": null,
            "grid_template_columns": null,
            "grid_template_rows": null,
            "height": null,
            "justify_content": null,
            "justify_items": null,
            "left": null,
            "margin": null,
            "max_height": null,
            "max_width": null,
            "min_height": null,
            "min_width": null,
            "object_fit": null,
            "object_position": null,
            "order": null,
            "overflow": null,
            "overflow_x": null,
            "overflow_y": null,
            "padding": null,
            "right": null,
            "top": null,
            "visibility": null,
            "width": null
          }
        },
        "fd5f4f594e2c4198943946de5ee28d2e": {
          "model_module": "@jupyter-widgets/controls",
          "model_name": "DescriptionStyleModel",
          "model_module_version": "1.5.0",
          "state": {
            "_model_module": "@jupyter-widgets/controls",
            "_model_module_version": "1.5.0",
            "_model_name": "DescriptionStyleModel",
            "_view_count": null,
            "_view_module": "@jupyter-widgets/base",
            "_view_module_version": "1.2.0",
            "_view_name": "StyleView",
            "description_width": ""
          }
        },
        "39eb69278815441e94db1f772f5c8961": {
          "model_module": "@jupyter-widgets/controls",
          "model_name": "ButtonModel",
          "model_module_version": "1.5.0",
          "state": {
            "_dom_classes": [],
            "_model_module": "@jupyter-widgets/controls",
            "_model_module_version": "1.5.0",
            "_model_name": "ButtonModel",
            "_view_count": null,
            "_view_module": "@jupyter-widgets/controls",
            "_view_module_version": "1.5.0",
            "_view_name": "ButtonView",
            "button_style": "danger",
            "description": "Assess Risk",
            "disabled": false,
            "icon": "",
            "layout": "IPY_MODEL_4fcca1fb3fef4c89b52607270ef0742e",
            "style": "IPY_MODEL_3d4814ac73d44485bab4c7fdd56fff1c",
            "tooltip": ""
          }
        },
        "4fcca1fb3fef4c89b52607270ef0742e": {
          "model_module": "@jupyter-widgets/base",
          "model_name": "LayoutModel",
          "model_module_version": "1.2.0",
          "state": {
            "_model_module": "@jupyter-widgets/base",
            "_model_module_version": "1.2.0",
            "_model_name": "LayoutModel",
            "_view_count": null,
            "_view_module": "@jupyter-widgets/base",
            "_view_module_version": "1.2.0",
            "_view_name": "LayoutView",
            "align_content": null,
            "align_items": null,
            "align_self": null,
            "border": null,
            "bottom": null,
            "display": null,
            "flex": null,
            "flex_flow": null,
            "grid_area": null,
            "grid_auto_columns": null,
            "grid_auto_flow": null,
            "grid_auto_rows": null,
            "grid_column": null,
            "grid_gap": null,
            "grid_row": null,
            "grid_template_areas": null,
            "grid_template_columns": null,
            "grid_template_rows": null,
            "height": null,
            "justify_content": null,
            "justify_items": null,
            "left": null,
            "margin": null,
            "max_height": null,
            "max_width": null,
            "min_height": null,
            "min_width": null,
            "object_fit": null,
            "object_position": null,
            "order": null,
            "overflow": null,
            "overflow_x": null,
            "overflow_y": null,
            "padding": null,
            "right": null,
            "top": null,
            "visibility": null,
            "width": null
          }
        },
        "3d4814ac73d44485bab4c7fdd56fff1c": {
          "model_module": "@jupyter-widgets/controls",
          "model_name": "ButtonStyleModel",
          "model_module_version": "1.5.0",
          "state": {
            "_model_module": "@jupyter-widgets/controls",
            "_model_module_version": "1.5.0",
            "_model_name": "ButtonStyleModel",
            "_view_count": null,
            "_view_module": "@jupyter-widgets/base",
            "_view_module_version": "1.2.0",
            "_view_name": "StyleView",
            "button_color": null,
            "font_weight": ""
          }
        },
        "8de8f1a8ad434dd7a8296bd201f94fdb": {
          "model_module": "@jupyter-widgets/output",
          "model_name": "OutputModel",
          "model_module_version": "1.0.0",
          "state": {
            "_dom_classes": [],
            "_model_module": "@jupyter-widgets/output",
            "_model_module_version": "1.0.0",
            "_model_name": "OutputModel",
            "_view_count": null,
            "_view_module": "@jupyter-widgets/output",
            "_view_module_version": "1.0.0",
            "_view_name": "OutputView",
            "layout": "IPY_MODEL_c8da69ef80734286a963138c27e42e93",
            "msg_id": "",
            "outputs": [
              {
                "output_type": "stream",
                "name": "stdout",
                "text": [
                  "\n",
                  "📊 Investment Risk Assessment\n",
                  "-----------------------------------\n",
                  "🔹 Stock Returns: [9.0, -10.0, 6.0]\n",
                  "🔹 Risk Level: 🚨 High Risk – Portfolio contains negative returns.\n"
                ]
              }
            ]
          }
        },
        "c8da69ef80734286a963138c27e42e93": {
          "model_module": "@jupyter-widgets/base",
          "model_name": "LayoutModel",
          "model_module_version": "1.2.0",
          "state": {
            "_model_module": "@jupyter-widgets/base",
            "_model_module_version": "1.2.0",
            "_model_name": "LayoutModel",
            "_view_count": null,
            "_view_module": "@jupyter-widgets/base",
            "_view_module_version": "1.2.0",
            "_view_name": "LayoutView",
            "align_content": null,
            "align_items": null,
            "align_self": null,
            "border": null,
            "bottom": null,
            "display": null,
            "flex": null,
            "flex_flow": null,
            "grid_area": null,
            "grid_auto_columns": null,
            "grid_auto_flow": null,
            "grid_auto_rows": null,
            "grid_column": null,
            "grid_gap": null,
            "grid_row": null,
            "grid_template_areas": null,
            "grid_template_columns": null,
            "grid_template_rows": null,
            "height": null,
            "justify_content": null,
            "justify_items": null,
            "left": null,
            "margin": null,
            "max_height": null,
            "max_width": null,
            "min_height": null,
            "min_width": null,
            "object_fit": null,
            "object_position": null,
            "order": null,
            "overflow": null,
            "overflow_x": null,
            "overflow_y": null,
            "padding": null,
            "right": null,
            "top": null,
            "visibility": null,
            "width": null
          }
        },
        "419992c96e404c92a7e107944851f384": {
          "model_module": "@jupyter-widgets/controls",
          "model_name": "ButtonModel",
          "model_module_version": "1.5.0",
          "state": {
            "_dom_classes": [],
            "_model_module": "@jupyter-widgets/controls",
            "_model_module_version": "1.5.0",
            "_model_name": "ButtonModel",
            "_view_count": null,
            "_view_module": "@jupyter-widgets/controls",
            "_view_module_version": "1.5.0",
            "_view_name": "ButtonView",
            "button_style": "warning",
            "description": "Start Tracking",
            "disabled": false,
            "icon": "",
            "layout": "IPY_MODEL_90f8abc3b3e240b0a9d9c604b4c6ac54",
            "style": "IPY_MODEL_7238a187fb4e4105910b4001d373f92c",
            "tooltip": ""
          }
        },
        "90f8abc3b3e240b0a9d9c604b4c6ac54": {
          "model_module": "@jupyter-widgets/base",
          "model_name": "LayoutModel",
          "model_module_version": "1.2.0",
          "state": {
            "_model_module": "@jupyter-widgets/base",
            "_model_module_version": "1.2.0",
            "_model_name": "LayoutModel",
            "_view_count": null,
            "_view_module": "@jupyter-widgets/base",
            "_view_module_version": "1.2.0",
            "_view_name": "LayoutView",
            "align_content": null,
            "align_items": null,
            "align_self": null,
            "border": null,
            "bottom": null,
            "display": null,
            "flex": null,
            "flex_flow": null,
            "grid_area": null,
            "grid_auto_columns": null,
            "grid_auto_flow": null,
            "grid_auto_rows": null,
            "grid_column": null,
            "grid_gap": null,
            "grid_row": null,
            "grid_template_areas": null,
            "grid_template_columns": null,
            "grid_template_rows": null,
            "height": null,
            "justify_content": null,
            "justify_items": null,
            "left": null,
            "margin": null,
            "max_height": null,
            "max_width": null,
            "min_height": null,
            "min_width": null,
            "object_fit": null,
            "object_position": null,
            "order": null,
            "overflow": null,
            "overflow_x": null,
            "overflow_y": null,
            "padding": null,
            "right": null,
            "top": null,
            "visibility": null,
            "width": null
          }
        },
        "7238a187fb4e4105910b4001d373f92c": {
          "model_module": "@jupyter-widgets/controls",
          "model_name": "ButtonStyleModel",
          "model_module_version": "1.5.0",
          "state": {
            "_model_module": "@jupyter-widgets/controls",
            "_model_module_version": "1.5.0",
            "_model_name": "ButtonStyleModel",
            "_view_count": null,
            "_view_module": "@jupyter-widgets/base",
            "_view_module_version": "1.2.0",
            "_view_name": "StyleView",
            "button_color": null,
            "font_weight": ""
          }
        },
        "ff0d05ad57874e74be68a49a5e5570d9": {
          "model_module": "@jupyter-widgets/controls",
          "model_name": "ButtonModel",
          "model_module_version": "1.5.0",
          "state": {
            "_dom_classes": [],
            "_model_module": "@jupyter-widgets/controls",
            "_model_module_version": "1.5.0",
            "_model_name": "ButtonModel",
            "_view_count": null,
            "_view_module": "@jupyter-widgets/controls",
            "_view_module_version": "1.5.0",
            "_view_name": "ButtonView",
            "button_style": "success",
            "description": "\tStart Tracking",
            "disabled": false,
            "icon": "",
            "layout": "IPY_MODEL_e50227a25f7a4e4b9d2a1c243324920d",
            "style": "IPY_MODEL_cb6df3a3e29c4b1cb32dbc6ad32a9be0",
            "tooltip": ""
          }
        },
        "e50227a25f7a4e4b9d2a1c243324920d": {
          "model_module": "@jupyter-widgets/base",
          "model_name": "LayoutModel",
          "model_module_version": "1.2.0",
          "state": {
            "_model_module": "@jupyter-widgets/base",
            "_model_module_version": "1.2.0",
            "_model_name": "LayoutModel",
            "_view_count": null,
            "_view_module": "@jupyter-widgets/base",
            "_view_module_version": "1.2.0",
            "_view_name": "LayoutView",
            "align_content": null,
            "align_items": null,
            "align_self": null,
            "border": null,
            "bottom": null,
            "display": null,
            "flex": null,
            "flex_flow": null,
            "grid_area": null,
            "grid_auto_columns": null,
            "grid_auto_flow": null,
            "grid_auto_rows": null,
            "grid_column": null,
            "grid_gap": null,
            "grid_row": null,
            "grid_template_areas": null,
            "grid_template_columns": null,
            "grid_template_rows": null,
            "height": null,
            "justify_content": null,
            "justify_items": null,
            "left": null,
            "margin": null,
            "max_height": null,
            "max_width": null,
            "min_height": null,
            "min_width": null,
            "object_fit": null,
            "object_position": null,
            "order": null,
            "overflow": null,
            "overflow_x": null,
            "overflow_y": null,
            "padding": null,
            "right": null,
            "top": null,
            "visibility": null,
            "width": null
          }
        },
        "cb6df3a3e29c4b1cb32dbc6ad32a9be0": {
          "model_module": "@jupyter-widgets/controls",
          "model_name": "ButtonStyleModel",
          "model_module_version": "1.5.0",
          "state": {
            "_model_module": "@jupyter-widgets/controls",
            "_model_module_version": "1.5.0",
            "_model_name": "ButtonStyleModel",
            "_view_count": null,
            "_view_module": "@jupyter-widgets/base",
            "_view_module_version": "1.2.0",
            "_view_name": "StyleView",
            "button_color": null,
            "font_weight": ""
          }
        },
        "a8e18b832bd54b57ad6a2062e10d9c84": {
          "model_module": "@jupyter-widgets/controls",
          "model_name": "ButtonModel",
          "model_module_version": "1.5.0",
          "state": {
            "_dom_classes": [],
            "_model_module": "@jupyter-widgets/controls",
            "_model_module_version": "1.5.0",
            "_model_name": "ButtonModel",
            "_view_count": null,
            "_view_module": "@jupyter-widgets/controls",
            "_view_module_version": "1.5.0",
            "_view_name": "ButtonView",
            "button_style": "info",
            "description": "\t\t Start Tracking",
            "disabled": false,
            "icon": "",
            "layout": "IPY_MODEL_64c3bf8c9af34e99b87a188c3a7fc6fd",
            "style": "IPY_MODEL_04558bf40d704b76b46432cfe0273292",
            "tooltip": ""
          }
        },
        "64c3bf8c9af34e99b87a188c3a7fc6fd": {
          "model_module": "@jupyter-widgets/base",
          "model_name": "LayoutModel",
          "model_module_version": "1.2.0",
          "state": {
            "_model_module": "@jupyter-widgets/base",
            "_model_module_version": "1.2.0",
            "_model_name": "LayoutModel",
            "_view_count": null,
            "_view_module": "@jupyter-widgets/base",
            "_view_module_version": "1.2.0",
            "_view_name": "LayoutView",
            "align_content": null,
            "align_items": null,
            "align_self": null,
            "border": null,
            "bottom": null,
            "display": null,
            "flex": null,
            "flex_flow": null,
            "grid_area": null,
            "grid_auto_columns": null,
            "grid_auto_flow": null,
            "grid_auto_rows": null,
            "grid_column": null,
            "grid_gap": null,
            "grid_row": null,
            "grid_template_areas": null,
            "grid_template_columns": null,
            "grid_template_rows": null,
            "height": null,
            "justify_content": null,
            "justify_items": null,
            "left": null,
            "margin": null,
            "max_height": null,
            "max_width": null,
            "min_height": null,
            "min_width": null,
            "object_fit": null,
            "object_position": null,
            "order": null,
            "overflow": null,
            "overflow_x": null,
            "overflow_y": null,
            "padding": null,
            "right": null,
            "top": null,
            "visibility": null,
            "width": null
          }
        },
        "04558bf40d704b76b46432cfe0273292": {
          "model_module": "@jupyter-widgets/controls",
          "model_name": "ButtonStyleModel",
          "model_module_version": "1.5.0",
          "state": {
            "_model_module": "@jupyter-widgets/controls",
            "_model_module_version": "1.5.0",
            "_model_name": "ButtonStyleModel",
            "_view_count": null,
            "_view_module": "@jupyter-widgets/base",
            "_view_module_version": "1.2.0",
            "_view_name": "StyleView",
            "button_color": null,
            "font_weight": ""
          }
        }
      }
    }
  },
  "cells": [
    {
      "cell_type": "markdown",
      "source": [
        "# **AF3005 – Programming for Finance**  \n",
        "\n",
        "---\n",
        "\n",
        "## **📘 Assignment 1: Smart Financial Management System**  \n",
        "\n",
        "📍 **FAST National University of Computer and Emerging Sciences (FAST-NUCES), Islamabad**  \n",
        "👨‍🏫 **Instructor:** Dr. Usama Arshad (Assistant Professor, FSM)  \n",
        "🎓 **Program:** BS Financial Technology (BSFT)  \n",
        "📅 **Semester:** Spring 2025  \n",
        "📌 **Sections:** BSFT06A, BSFT06B, BSFT06C  \n",
        "\n",
        "---\n",
        "\n",
        "## **🎯 Course Learning Outcomes (CLOs)**  \n",
        "- **CLO1:** Write Python programs to solve basic financial problems.  \n",
        "- **CLO2:** Perform data manipulation and analysis using Python libraries.  \n",
        "\n",
        "---\n",
        "\n",
        "\n",
        "\n",
        "\n",
        "\n",
        "\n",
        "\n",
        "\n",
        "\n",
        "\n",
        "\n"
      ],
      "metadata": {
        "id": "5SRLdaqmHtmP"
      }
    },
    {
      "cell_type": "markdown",
      "source": [
        "\n",
        "# **🟢 Deadline: 15th February 2025**\n",
        "\n",
        "---\n",
        "\n"
      ],
      "metadata": {
        "id": "wXgvxhSVQXNz"
      }
    },
    {
      "cell_type": "markdown",
      "source": [
        "## **📥 Submission Guidelines**\n",
        "- **File Format:** Submit your assignment as a Jupyter Notebook file (`.ipynb`).\n",
        "- **Naming Convention:** Use the format `[Your_regno]_AF3005_Assignment1.ipynb`.\n",
        "- **Submission Platform:** Upload your file to **Google Classroom** under the assigned submission.\n",
        "- **GitHub Repository:**\n",
        "  - Create a GitHub repository named `AF3005_ProgrammingForFinance`.\n",
        "  - Upload your `.ipynb` file.\n",
        "  - Ensure the repository is structured properly with a `README.md` explaining the implementation.\n",
        "  - The implementation must include `ipywidgets` for interactive elements.\n",
        "  - Share the GitHub repository link in Google Classroom submission with file.\n",
        "\n",
        "---\n",
        "\n",
        "---\n",
        "\n"
      ],
      "metadata": {
        "id": "mHDXP18hMn3A"
      }
    },
    {
      "cell_type": "markdown",
      "source": [
        "# **🟢 Scenario: Smart Financial Management System [20 marks]**  \n",
        "\n",
        "\n",
        "---\n",
        "\n",
        "\n",
        "SecureBank wants to develop an **automated financial management system** using Python. Your task is to implement different financial operations step by step.\n",
        "\n",
        "This system will:  \n",
        "✅ **Assess customer eligibility for loans.**  \n",
        "✅ **Classify investment portfolios based on risk.**  \n",
        "✅ **Automate loan repayment tracking.**  \n",
        "✅ **Monitor stock market trends and trigger alerts.**  \n",
        "✅ **Track currency exchange rates and suggest conversions.**  \n",
        "\n",
        "Your task is to **break down the requirements, write a structured plan, and implement the logic step by step** using **ipywidgets** for interactive user inputs.\n",
        "\n",
        "---\n",
        "\n"
      ],
      "metadata": {
        "id": "XEanO5EiLdC9"
      }
    },
    {
      "cell_type": "markdown",
      "source": [
        "## **🟢 Part 1: Loan Eligibility & Interest Rate Calculation [4 marks]**  \n",
        "\n",
        "📌 **Requirement:**  \n",
        "SecureBank only approves loans if the **customer meets all eligibility criteria**. The system should:  \n",
        "✔ **Check if the customer is employed.**  \n",
        "✔ **Verify if the income is at least PKR 50,000.**  \n",
        "✔ **Check credit score:**  \n",
        "   - **750+ → 5% Interest Rate**  \n",
        "   - **650 - 749 → 8% Interest Rate**  \n",
        "   - **Below 650 → Loan Rejected**  \n",
        "✔ **If the applicant is unemployed, the loan is rejected immediately.**  \n",
        "\n",
        "### **Implementation Steps:**  \n",
        "🔹 **Step 1:** Structure the `if-elif-else` statements for this logic.  \n",
        "🔹 **Step 2:** Implement a Python program using **ipywidgets** for interactive user input (income, credit score, employment status) to decide whether the loan is approved or rejected.\n",
        "\n",
        "---"
      ],
      "metadata": {
        "id": "sIKHzkmkLYYM"
      }
    },
    {
      "cell_type": "code",
      "source": [
        "import ipywidgets as widgets\n",
        "from IPython.display import display\n",
        "\n",
        "# Dropdown for employment status to check if employed\n",
        "employ_status = widgets.Dropdown(\n",
        "    options=[\"Yes\", \"No\"],\n",
        "    value=\"Yes\",\n",
        "    description=\"Employeed?: \"\n",
        ")\n",
        "\n",
        "# Slider widget made for income\n",
        "income_slider = widgets.IntSlider(\n",
        "    value=50000,\n",
        "    min=0,\n",
        "    max=200000,\n",
        "    step=1000,\n",
        "    description=\"Income:\"\n",
        ")\n",
        "\n",
        "# Slider widget made for credit score\n",
        "cs_slider = widgets.IntSlider(\n",
        "    value=700,\n",
        "    min=300,\n",
        "    max=850,\n",
        "    step=10,\n",
        "    description=\"Credit Score:\"\n",
        ")\n",
        "\n",
        "# A button is made to check the eligibility of the loan.\n",
        "check_button = widgets.Button(description=\"Check Eligibility\")\n",
        "\n",
        "# A function is made to check the loan elgibility\n",
        "def check_eligibility(button):\n",
        "    employment = employ_status.value\n",
        "    income = income_slider.value\n",
        "    credit_score = cs_slider.value\n",
        "\n",
        "    # First checks whether individual is employeed, if no, loan rejected\n",
        "    if employment == \"No\":\n",
        "        print(\"Unfortunately, your loan is rejected as per your unemployment.\")\n",
        "        return\n",
        "\n",
        "    # If individual is employeed, checks for income in order to check loan eligibility\n",
        "    if income >= 50000:\n",
        "\n",
        "      # Nested if-elif-else structed that is executed once income amount is true\n",
        "        if credit_score > 750:\n",
        "            interest = credit_score * 0.05\n",
        "            print(f\"\\n Your loan has been accepted! \\nInterest rate: {interest:.2f}%\")\n",
        "        elif 650 <= credit_score < 750:\n",
        "            interest = credit_score * 0.08\n",
        "            print(f\"\\n Your loan has been accepted! \\nInterest rate: {interest:.2f}%\")\n",
        "        else:\n",
        "            print(\"\\ Unfortunately, your loan is rejected due to insufficient credit score.\")\n",
        "\n",
        "    # Else executed if income is insufficient, loan is rejected\n",
        "    else:\n",
        "        print(\"\\n Unfortunately, your loan is rejected due to insufficient income.\")\n",
        "\n",
        "\n",
        "# This will attach the made function to the button.\n",
        "check_button.on_click(check_eligibility)\n",
        "\n",
        "# Following display code is written to display the widgets we have created.\n",
        "display(employ_status, income_slider, cs_slider, check_button)\n",
        "\n",
        "\n",
        "\n"
      ],
      "metadata": {
        "id": "JnoBYZkTKqRw",
        "colab": {
          "base_uri": "https://localhost:8080/",
          "height": 176,
          "referenced_widgets": [
            "cf6a3d1580e946faa2410035c354a4d3",
            "223c0b952ff940b7ae1ab9e2f93eb4be",
            "bbac6942ddfb4203821fa996d94d774f",
            "f38e5538bd934d829fcc0fc96ab30d98",
            "46361c27bb0648c1abceed6768bac8da",
            "818538f9ae3d4a0fa4dbb030dd040f98",
            "69cb753d85f6491b936b4045681e8260",
            "d45ee204c89549d49c45943911243970",
            "c972ec26557b4808afc81f745336d177",
            "3dc43066178540ae9656672ef570fe29",
            "1f22680590e741989a694d35cf77293b",
            "c6a4298b8ec14b96b0114e9eca0a69a2"
          ]
        },
        "outputId": "76083059-9409-4258-cd78-10b8ce132eb8"
      },
      "execution_count": 14,
      "outputs": [
        {
          "output_type": "display_data",
          "data": {
            "text/plain": [
              "Dropdown(description='Employeed?: ', options=('Yes', 'No'), value='Yes')"
            ],
            "application/vnd.jupyter.widget-view+json": {
              "version_major": 2,
              "version_minor": 0,
              "model_id": "cf6a3d1580e946faa2410035c354a4d3"
            }
          },
          "metadata": {}
        },
        {
          "output_type": "display_data",
          "data": {
            "text/plain": [
              "IntSlider(value=50000, description='Income:', max=200000, step=1000)"
            ],
            "application/vnd.jupyter.widget-view+json": {
              "version_major": 2,
              "version_minor": 0,
              "model_id": "f38e5538bd934d829fcc0fc96ab30d98"
            }
          },
          "metadata": {}
        },
        {
          "output_type": "display_data",
          "data": {
            "text/plain": [
              "IntSlider(value=700, description='Credit Score:', max=850, min=300, step=10)"
            ],
            "application/vnd.jupyter.widget-view+json": {
              "version_major": 2,
              "version_minor": 0,
              "model_id": "69cb753d85f6491b936b4045681e8260"
            }
          },
          "metadata": {}
        },
        {
          "output_type": "display_data",
          "data": {
            "text/plain": [
              "Button(description='Check Eligibility', style=ButtonStyle())"
            ],
            "application/vnd.jupyter.widget-view+json": {
              "version_major": 2,
              "version_minor": 0,
              "model_id": "3dc43066178540ae9656672ef570fe29"
            }
          },
          "metadata": {}
        },
        {
          "output_type": "stream",
          "name": "stdout",
          "text": [
            "\n",
            "❌ Unfortunately, your loan is rejected due to insufficient credit score.\n"
          ]
        }
      ]
    },
    {
      "cell_type": "markdown",
      "source": [
        "## **🟢 Part 2: Investment Risk Assessment [4 marks]**  \n",
        "\n",
        "📌 **Requirement:**  \n",
        "SecureBank offers **investment analysis services**. The system should evaluate a **portfolio of stocks** and classify the risk level based on stock returns:  \n",
        "✔ If **any stock has a negative return**, the portfolio is **High Risk**.  \n",
        "✔ If **all stocks have positive returns**, but at least one return is below 5%, classify as **Medium Risk**.  \n",
        "✔ If **all stock returns are 5% or above**, classify as **Low Risk**.  \n",
        "\n",
        "### **Implementation Steps:**  \n",
        "🔹 **Step 1:** Use loops to iterate through the list of stock returns.  \n",
        "🔹 **Step 2:** Implement `if-elif` conditions to classify the risk.  \n",
        "🔹 **Step 3:** Write a Python program using **ipywidgets** to allow users to **input stock returns interactively** and receive a risk assessment.\n",
        "\n",
        "---"
      ],
      "metadata": {
        "id": "s66ykZPwKmRL"
      }
    },
    {
      "cell_type": "code",
      "source": [
        "import ipywidgets as widgets\n",
        "from IPython.display import display, clear_output\n",
        "\n",
        "# Input field for stock returns\n",
        "stock_returns_input = widgets.Text(\n",
        "    value=\"\", # Empty so values are taken from user\n",
        "    description=\"Returns (%):\",\n",
        "    placeholder=\"Enter comma-separated returns (e.g., 10, -2, 5)\" # Explains the format to enter returns\n",
        ")\n",
        "\n",
        "# Creating and Styling Button\n",
        "submit_button = widgets.Button(\n",
        "    description=\"Assess Risk\",\n",
        "    button_style='danger'\n",
        ")\n",
        "\n",
        "# Output area\n",
        "output = widgets.Output()\n",
        "\n",
        "# A function is created to assess the risk\n",
        "def assess_risk(b):\n",
        "    with output:\n",
        "        clear_output(wait=True)  # Old Output Removed\n",
        "        try:\n",
        "            # Convert input string to a list of float values\n",
        "            returns = [float(x.strip()) for x in stock_returns_input.value.split(\",\")]\n",
        "\n",
        "            # Initialize flags for risk assessment\n",
        "            has_negative = any(r < 0 for r in returns)  # Check for negative returns\n",
        "            has_below_five = any(0 <= r < 5 for r in returns)  # Check for returns below 5%\n",
        "            all_above_five = all(r >= 5 for r in returns)  # Check if all returns are >= 5%\n",
        "\n",
        "            # Determine risk level\n",
        "            if has_negative:\n",
        "                risk_level = \"🚨 High Risk – Portfolio contains negative returns.\"\n",
        "            elif has_below_five:\n",
        "                risk_level = \"⚠️ Medium Risk – Some returns are below 5%.\"\n",
        "            elif all_above_five:\n",
        "                risk_level = \"✅ Low Risk – All returns are 5% or above.\"\n",
        "            else:\n",
        "                risk_level = \"❓ Undefined Risk – Unable to classify.\"\n",
        "\n",
        "            # Print the output\n",
        "            print(\"\\n📊 Investment Risk Assessment\")\n",
        "            print(\"-\" * 35)\n",
        "            print(f\"🔹 Stock Returns: {returns}\")\n",
        "            print(f\"🔹 Risk Level: {risk_level}\")\n",
        "\n",
        "        except ValueError:\n",
        "            print(\"❌ Invalid input. Please enter numeric values separated by commas (e.g., 10, -2, 5).\")\n",
        "\n",
        "# Risk assessment function is attached to the button\n",
        "submit_button.on_click(assess_risk)\n",
        "\n",
        "# All created widgets displayed\n",
        "display(stock_returns_input, submit_button, output)"
      ],
      "metadata": {
        "id": "I6Mi2LbOKtym",
        "colab": {
          "base_uri": "https://localhost:8080/",
          "height": 168,
          "referenced_widgets": [
            "5376510a64a84f96824d2c608cad1df1",
            "81bef93de92740c2b726459b58ab874f",
            "fd5f4f594e2c4198943946de5ee28d2e",
            "39eb69278815441e94db1f772f5c8961",
            "4fcca1fb3fef4c89b52607270ef0742e",
            "3d4814ac73d44485bab4c7fdd56fff1c",
            "8de8f1a8ad434dd7a8296bd201f94fdb",
            "c8da69ef80734286a963138c27e42e93"
          ]
        },
        "outputId": "da79cdbc-10b1-42cf-f1ab-64776203e4b9"
      },
      "execution_count": 36,
      "outputs": [
        {
          "output_type": "display_data",
          "data": {
            "text/plain": [
              "Text(value='', description='Returns (%):', placeholder='Enter comma-separated returns (e.g., 10, -2, 5)')"
            ],
            "application/vnd.jupyter.widget-view+json": {
              "version_major": 2,
              "version_minor": 0,
              "model_id": "5376510a64a84f96824d2c608cad1df1"
            }
          },
          "metadata": {}
        },
        {
          "output_type": "display_data",
          "data": {
            "text/plain": [
              "Button(button_style='danger', description='Assess Risk', style=ButtonStyle())"
            ],
            "application/vnd.jupyter.widget-view+json": {
              "version_major": 2,
              "version_minor": 0,
              "model_id": "39eb69278815441e94db1f772f5c8961"
            }
          },
          "metadata": {}
        },
        {
          "output_type": "display_data",
          "data": {
            "text/plain": [
              "Output()"
            ],
            "application/vnd.jupyter.widget-view+json": {
              "version_major": 2,
              "version_minor": 0,
              "model_id": "8de8f1a8ad434dd7a8296bd201f94fdb"
            }
          },
          "metadata": {}
        }
      ]
    },
    {
      "cell_type": "markdown",
      "source": [
        "## **🟢 Part 3: Loan Repayment Tracker [4 marks]**  \n",
        "\n",
        "📌 **Requirement:**  \n",
        "Customers who receive a loan should be able to track their **loan balance** as they make monthly payments. The system should:  \n",
        "✔ Start with an **initial loan balance** (e.g., PKR 500,000).  \n",
        "✔ Deduct a **fixed monthly payment** (e.g., PKR 25,000).  \n",
        "✔ Continue tracking until **loan balance reaches zero**.  \n",
        "✔ Display the remaining balance **after each payment**.  \n",
        "\n",
        "### **Implementation Steps:**  \n",
        "🔹 **Step 1:** Choose an appropriate loop (`for` or `while`).  \n",
        "🔹 **Step 2:** Ensure the loop **stops once the loan is fully paid**.  \n",
        "🔹 **Step 3:** Implement a Python program using **ipywidgets** to **simulate loan repayment interactively**.\n",
        "\n",
        "---"
      ],
      "metadata": {
        "id": "xTrlsvaZKhaQ"
      }
    },
    {
      "cell_type": "markdown",
      "source": [],
      "metadata": {
        "id": "_SvAh3_XvZYb"
      }
    },
    {
      "cell_type": "code",
      "source": [
        "import ipywidgets as widgets\n",
        "from IPython.display import display\n",
        "\n",
        "# Initial welcome messages\n",
        "print(\"\\t  --- Welcome to Loan Repayment Tracker --- \")\n",
        "print(\"\\n\\t---- Press the button to start tracking! -----\\n\\n\")\n",
        "\n",
        "# Creating a function for loan tracking\n",
        "def track_loan(button):\n",
        " initial_amount= 500000\n",
        " target_amount= 0\n",
        " month=0\n",
        "\n",
        "# While statement used to evaluate and calculate loan amount\n",
        " while initial_amount >= target_amount:\n",
        "   print(\"\\n+-----------+--------------------------------------+\")\n",
        "   print(f\"| Month {month}  |  Remaining Loan Amount: Rs {initial_amount}  |\")\n",
        "   print(\"+-----------+--------------------------------------+\")\n",
        "   month+=1\n",
        "   initial_amount-=25000\n",
        "\n",
        " print(\"\\n\\nYou have successfully repaid the loan!\")\n",
        "\n",
        "# Button Creation and styling\n",
        "start_button = widgets.Button(description=\"Start Tracking\",\n",
        "                              button_style=\"warning\")\n",
        "\n",
        "# Function for loan tracking attached to button\n",
        "start_button.on_click(track_loan)\n",
        "\n",
        "# Widget is displayed\n",
        "display(start_button)\n",
        "\n",
        "\n",
        "\n"
      ],
      "metadata": {
        "id": "h3V9vFDjKvGH",
        "colab": {
          "base_uri": "https://localhost:8080/",
          "height": 1000,
          "referenced_widgets": [
            "419992c96e404c92a7e107944851f384",
            "90f8abc3b3e240b0a9d9c604b4c6ac54",
            "7238a187fb4e4105910b4001d373f92c"
          ]
        },
        "outputId": "5868d95a-3ce0-4a23-d7ba-d2190fa85997"
      },
      "execution_count": 80,
      "outputs": [
        {
          "output_type": "stream",
          "name": "stdout",
          "text": [
            "\t  --- Welcome to Loan Repayment Tracker --- \n",
            "\n",
            "\t---- Press the button to start tracking! -----\n",
            "\n",
            "\n"
          ]
        },
        {
          "output_type": "display_data",
          "data": {
            "text/plain": [
              "Button(button_style='warning', description='Start Tracking', style=ButtonStyle())"
            ],
            "application/vnd.jupyter.widget-view+json": {
              "version_major": 2,
              "version_minor": 0,
              "model_id": "419992c96e404c92a7e107944851f384"
            }
          },
          "metadata": {}
        },
        {
          "output_type": "stream",
          "name": "stdout",
          "text": [
            "\n",
            "+-----------+--------------------------------------+\n",
            "| Month 0  |  Remaining Loan Amount: Rs 500000  |\n",
            "+-----------+--------------------------------------+\n",
            "\n",
            "+-----------+--------------------------------------+\n",
            "| Month 1  |  Remaining Loan Amount: Rs 475000  |\n",
            "+-----------+--------------------------------------+\n",
            "\n",
            "+-----------+--------------------------------------+\n",
            "| Month 2  |  Remaining Loan Amount: Rs 450000  |\n",
            "+-----------+--------------------------------------+\n",
            "\n",
            "+-----------+--------------------------------------+\n",
            "| Month 3  |  Remaining Loan Amount: Rs 425000  |\n",
            "+-----------+--------------------------------------+\n",
            "\n",
            "+-----------+--------------------------------------+\n",
            "| Month 4  |  Remaining Loan Amount: Rs 400000  |\n",
            "+-----------+--------------------------------------+\n",
            "\n",
            "+-----------+--------------------------------------+\n",
            "| Month 5  |  Remaining Loan Amount: Rs 375000  |\n",
            "+-----------+--------------------------------------+\n",
            "\n",
            "+-----------+--------------------------------------+\n",
            "| Month 6  |  Remaining Loan Amount: Rs 350000  |\n",
            "+-----------+--------------------------------------+\n",
            "\n",
            "+-----------+--------------------------------------+\n",
            "| Month 7  |  Remaining Loan Amount: Rs 325000  |\n",
            "+-----------+--------------------------------------+\n",
            "\n",
            "+-----------+--------------------------------------+\n",
            "| Month 8  |  Remaining Loan Amount: Rs 300000  |\n",
            "+-----------+--------------------------------------+\n",
            "\n",
            "+-----------+--------------------------------------+\n",
            "| Month 9  |  Remaining Loan Amount: Rs 275000  |\n",
            "+-----------+--------------------------------------+\n",
            "\n",
            "+-----------+--------------------------------------+\n",
            "| Month 10  |  Remaining Loan Amount: Rs 250000  |\n",
            "+-----------+--------------------------------------+\n",
            "\n",
            "+-----------+--------------------------------------+\n",
            "| Month 11  |  Remaining Loan Amount: Rs 225000  |\n",
            "+-----------+--------------------------------------+\n",
            "\n",
            "+-----------+--------------------------------------+\n",
            "| Month 12  |  Remaining Loan Amount: Rs 200000  |\n",
            "+-----------+--------------------------------------+\n",
            "\n",
            "+-----------+--------------------------------------+\n",
            "| Month 13  |  Remaining Loan Amount: Rs 175000  |\n",
            "+-----------+--------------------------------------+\n",
            "\n",
            "+-----------+--------------------------------------+\n",
            "| Month 14  |  Remaining Loan Amount: Rs 150000  |\n",
            "+-----------+--------------------------------------+\n",
            "\n",
            "+-----------+--------------------------------------+\n",
            "| Month 15  |  Remaining Loan Amount: Rs 125000  |\n",
            "+-----------+--------------------------------------+\n",
            "\n",
            "+-----------+--------------------------------------+\n",
            "| Month 16  |  Remaining Loan Amount: Rs 100000  |\n",
            "+-----------+--------------------------------------+\n",
            "\n",
            "+-----------+--------------------------------------+\n",
            "| Month 17  |  Remaining Loan Amount: Rs 75000  |\n",
            "+-----------+--------------------------------------+\n",
            "\n",
            "+-----------+--------------------------------------+\n",
            "| Month 18  |  Remaining Loan Amount: Rs 50000  |\n",
            "+-----------+--------------------------------------+\n",
            "\n",
            "+-----------+--------------------------------------+\n",
            "| Month 19  |  Remaining Loan Amount: Rs 25000  |\n",
            "+-----------+--------------------------------------+\n",
            "\n",
            "+-----------+--------------------------------------+\n",
            "| Month 20  |  Remaining Loan Amount: Rs 0  |\n",
            "+-----------+--------------------------------------+\n",
            "\n",
            "\n",
            "You have successfully repaid the loan!\n"
          ]
        }
      ]
    },
    {
      "cell_type": "markdown",
      "source": [
        "\n",
        "## **🟢 Part 4: Stock Price Monitoring and Trading Strategy [4 marks]**  \n",
        "\n",
        "📌 **Requirement:**  \n",
        "A stock trader wants to **track stock prices daily** and **sell when the price reaches PKR 200**. The system should:  \n",
        "✔ Iterate through a **list of stock prices**.  \n",
        "✔ **Skip missing stock data** (`None` values).  \n",
        "✔ Stop tracking **once the price reaches PKR 200**.  \n",
        "\n",
        "### **Implementation Steps:**  \n",
        "🔹 **Step 1:** Handle missing stock data using `continue`.  \n",
        "🔹 **Step 2:** Stop tracking once the stock hits the target price (`break`).  \n",
        "🔹 **Step 3:** Write a Python program using **ipywidgets** to **process stock prices interactively** and trigger alerts when conditions are met.\n",
        "\n",
        "---"
      ],
      "metadata": {
        "id": "3V72WRTcKc17"
      }
    },
    {
      "cell_type": "code",
      "source": [
        "import ipywidgets as widgets\n",
        "from IPython.display import display, clear_output\n",
        "import time\n",
        "\n",
        "stock_prices = [120, 140, None, 160, None, 180, None, 200] #stock_prices contains all the prices that will be projected\n",
        "\n",
        "# An interactive button is created for user to start tracking\n",
        "start_button = widgets.Button(\n",
        "    description=\"\\tStart Tracking\",\n",
        "    button_style = \"success\")\n",
        "\n",
        "print(\" 📈 Click the button to iniate tracking! \\n\")\n",
        "\n",
        "# Function created to track stock prices\n",
        "def track_stock_prices(button):\n",
        " for price in stock_prices:\n",
        "\n",
        "  # if statement to check for any empty or None values\n",
        "  if price is None:\n",
        "   continue # Will help ignore the values that are empty; containing \"None\"\n",
        "\n",
        "  print(f\"\\nStock Prices: PKR {price}\")\n",
        "\n",
        "  #if statement to break the loop\n",
        "  if price == 200:\n",
        "   print(f\"\\n\\t🚨 SELLING POINT!\")\n",
        "   print(\"+-------------------------------+\")\n",
        "   print(f\"| Stock price is now at PKR {price} |\")\n",
        "   print(\"+-------------------------------+\")\n",
        "   break #Will put a stop to the iteration as selling point is now reached\n",
        "\n",
        "# Attaching above function to the button\n",
        "start_button.on_click(track_stock_prices)\n",
        "\n",
        "# Line of code to display the button\n",
        "display(start_button)"
      ],
      "metadata": {
        "id": "G4v6qt6GKwFN",
        "colab": {
          "base_uri": "https://localhost:8080/",
          "height": 344,
          "referenced_widgets": [
            "ff0d05ad57874e74be68a49a5e5570d9",
            "e50227a25f7a4e4b9d2a1c243324920d",
            "cb6df3a3e29c4b1cb32dbc6ad32a9be0"
          ]
        },
        "outputId": "3fe96bff-74ec-4947-8b49-d3c2eaf4cd16"
      },
      "execution_count": 40,
      "outputs": [
        {
          "output_type": "stream",
          "name": "stdout",
          "text": [
            " 📈 Click the button to iniate tracking \n",
            "\n"
          ]
        },
        {
          "output_type": "display_data",
          "data": {
            "text/plain": [
              "Button(button_style='success', description='\\tStart Tracking', style=ButtonStyle())"
            ],
            "application/vnd.jupyter.widget-view+json": {
              "version_major": 2,
              "version_minor": 0,
              "model_id": "ff0d05ad57874e74be68a49a5e5570d9"
            }
          },
          "metadata": {}
        },
        {
          "output_type": "stream",
          "name": "stdout",
          "text": [
            "\n",
            "Stock Prices: PKR 120\n",
            "\n",
            "Stock Prices: PKR 140\n",
            "\n",
            "Stock Prices: PKR 160\n",
            "\n",
            "Stock Prices: PKR 180\n",
            "\n",
            "Stock Prices: PKR 200\n",
            "\n",
            "\t🚨 SELLING POINT!\n",
            "+-------------------------------+\n",
            "| Stock price is now at PKR 200 |\n",
            "+-------------------------------+\n"
          ]
        }
      ]
    },
    {
      "cell_type": "markdown",
      "source": [
        "\n",
        "## **🟢 Part 5: Currency Exchange Rate Tracker [4 marks]**  \n",
        "\n",
        "📌 **Requirement:**  \n",
        "SecureBank provides **real-time currency exchange tracking**. The system should:  \n",
        "✔ Start at **PKR 290/USD**.  \n",
        "✔ Increase by **1 PKR per day** until it reaches **PKR 300/USD**.  \n",
        "✔ Print exchange rates daily and stop when the **target rate is reached**.  \n",
        "\n",
        "### **Implementation Steps:**  \n",
        "🔹 **Step 1:** Choose a suitable loop (`for` or `while`).  \n",
        "🔹 **Step 2:** Stop the loop when the exchange rate reaches the target.  \n",
        "🔹 **Step 3:** Implement a Python program using **ipywidgets** to **track the currency exchange rate interactively**.\n",
        "\n",
        "---"
      ],
      "metadata": {
        "id": "lD82JT7-KXqK"
      }
    },
    {
      "cell_type": "code",
      "source": [
        "import ipywidgets as widgets\n",
        "from IPython.display import display\n",
        "\n",
        "#Welcome messages for the user\n",
        "print(\"\\t  🔹Welcome to currency exchange tracker🔹  \")\n",
        "print(\"\\n\\t   🔹Press the button to start tracking🔹 \\n\\n\")\n",
        "\n",
        "#Creating a function to track the exchange rates\n",
        "def track_exchange_rate(button):\n",
        " initial_amount= 290\n",
        " target_amount= 300\n",
        " day=0\n",
        "\n",
        "# A while loop is selected to calculate the exchange rates\n",
        " while initial_amount < target_amount: #Loop continues until 290 becomes 300\n",
        "   print(\"\\n+---------+--------------------------+\")\n",
        "   print(f\"|  Day {day}  |  Exchange Rate: Rs{initial_amount}    |\")\n",
        "   print(\"+---------+--------------------------+\")\n",
        "   day+=1 #Every time a loop is completed, day will be added by 1\n",
        "   initial_amount+=1 # Initial amount will increase by PKR 1 as the loop goes on\n",
        "\n",
        " print(\"\\n\\n✅ Target amount of PKR 300 reached!\")\n",
        "\n",
        "#Creating a Button to start tracking\n",
        "start_button = widgets.Button(\n",
        "    description=\"\\t\\t Start Tracking\",\n",
        "    button_style=\"Info\")\n",
        "\n",
        "#Storing the function in button\n",
        "start_button.on_click(track_exchange_rate)\n",
        "\n",
        "display(start_button)\n",
        "\n",
        "\n"
      ],
      "metadata": {
        "id": "3xiDWiabKwfr",
        "colab": {
          "base_uri": "https://localhost:8080/",
          "height": 882,
          "referenced_widgets": [
            "a8e18b832bd54b57ad6a2062e10d9c84",
            "64c3bf8c9af34e99b87a188c3a7fc6fd",
            "04558bf40d704b76b46432cfe0273292"
          ]
        },
        "outputId": "7c77733b-7802-4763-ff12-bfad43b5f242"
      },
      "execution_count": 77,
      "outputs": [
        {
          "output_type": "stream",
          "name": "stdout",
          "text": [
            "\t  🔹Welcome to currency exchange tracker🔹  \n",
            "\n",
            "\t   🔹Press the button to start tracking🔹 \n",
            "\n",
            "\n"
          ]
        },
        {
          "output_type": "display_data",
          "data": {
            "text/plain": [
              "Button(button_style='info', description='\\t\\t Start Tracking', style=ButtonStyle())"
            ],
            "application/vnd.jupyter.widget-view+json": {
              "version_major": 2,
              "version_minor": 0,
              "model_id": "a8e18b832bd54b57ad6a2062e10d9c84"
            }
          },
          "metadata": {}
        },
        {
          "output_type": "stream",
          "name": "stdout",
          "text": [
            "\n",
            "+---------+--------------------------+\n",
            "|  Day 0  |  Exchange Rate: Rs290    |\n",
            "+---------+--------------------------+\n",
            "\n",
            "+---------+--------------------------+\n",
            "|  Day 1  |  Exchange Rate: Rs291    |\n",
            "+---------+--------------------------+\n",
            "\n",
            "+---------+--------------------------+\n",
            "|  Day 2  |  Exchange Rate: Rs292    |\n",
            "+---------+--------------------------+\n",
            "\n",
            "+---------+--------------------------+\n",
            "|  Day 3  |  Exchange Rate: Rs293    |\n",
            "+---------+--------------------------+\n",
            "\n",
            "+---------+--------------------------+\n",
            "|  Day 4  |  Exchange Rate: Rs294    |\n",
            "+---------+--------------------------+\n",
            "\n",
            "+---------+--------------------------+\n",
            "|  Day 5  |  Exchange Rate: Rs295    |\n",
            "+---------+--------------------------+\n",
            "\n",
            "+---------+--------------------------+\n",
            "|  Day 6  |  Exchange Rate: Rs296    |\n",
            "+---------+--------------------------+\n",
            "\n",
            "+---------+--------------------------+\n",
            "|  Day 7  |  Exchange Rate: Rs297    |\n",
            "+---------+--------------------------+\n",
            "\n",
            "+---------+--------------------------+\n",
            "|  Day 8  |  Exchange Rate: Rs298    |\n",
            "+---------+--------------------------+\n",
            "\n",
            "+---------+--------------------------+\n",
            "|  Day 9  |  Exchange Rate: Rs299    |\n",
            "+---------+--------------------------+\n",
            "\n",
            "\n",
            "✅ Target amount of PKR 300 reached!\n"
          ]
        }
      ]
    },
    {
      "cell_type": "markdown",
      "source": [
        "*   \n",
        "*\n",
        "*   \n",
        "*   \n",
        "*   \n",
        "*\n",
        "*   \n",
        "*"
      ],
      "metadata": {
        "id": "-gpSKR0APnLP"
      }
    },
    {
      "cell_type": "markdown",
      "source": [
        "\n",
        "\n",
        "---\n",
        "\n",
        "\n",
        "======================================== *to err is human* ========================================\n",
        "\n",
        "\n",
        "---\n",
        "\n"
      ],
      "metadata": {
        "id": "hUFnFKjmKxeH"
      }
    },
    {
      "cell_type": "markdown",
      "source": [
        "*   \n",
        "*\n",
        "*   \n",
        "*   \n",
        "*   \n",
        "*\n",
        "*   \n",
        "*\n",
        "\n",
        "---\n",
        "\n",
        "## **🎯 Grading Rubric (20 Marks)**  \n",
        "\n",
        "| **Criteria**           | **🌟 Excellent (4 Marks)** | **✅ Good (3 Marks)** | **⚠️ Satisfactory (2 Marks)** | **❌ Needs Improvement (1 Mark)** | **🚫 No Attempt (0 Marks)** |\n",
        "|------------------------|-----------------------|------------------|----------------------|----------------------|----------------------|\n",
        "| **📝 Loan Eligibility System**  | ✅ Correct logic with `ipywidgets`, handles user input well. | ⚠️ Mostly correct logic, minor issues. | ❌ Basic logic but missing conditions. | 🚫 Major errors in implementation. | ❌ No implementation. |\n",
        "| **📊 Investment Risk Assessment**  | ✅ Efficient looping with correct risk classification and `ipywidgets`. | ⚠️ Minor issues in logic or implementation. | ❌ Some conditions missing, basic implementation. | 🚫 Incorrect or incomplete logic. | ❌ No implementation. |\n",
        "| **💰 Loan Repayment Tracker**  | ✅ Tracks repayment correctly, interactive using `ipywidgets`. | ⚠️ Correct logic but missing interactivity. | ❌ Loop present but some logic missing. | 🚫 Incorrect approach. | ❌ No implementation. |\n",
        "| **📈 Stock Price Monitoring**  | ✅ Proper use of `continue` and `break`, handles missing values. | ⚠️ Minor logic issues, mostly correct. | ❌ Some conditions missing, partially correct. | 🚫 Incorrect logic, missing key elements. | ❌ No implementation. |\n",
        "| **💹 Currency Exchange Tracker**  | ✅ Correct loop, stops at target rate, structured well with `ipywidgets`. | ⚠️ Mostly correct, minor inefficiencies. | ❌ Incorrect stopping condition, basic implementation. | 🚫 Incorrect approach. | ❌ No implementation. |\n",
        "| **📜 Code Quality & Structure**  | ✅ Well-commented, clean code, follows best practices. | ⚠️ Mostly structured but needs better readability. | ❌ Works but lacks clarity. | 🚫 Unstructured, lacks comments. | ❌ No code present. |\n",
        "| **🎛️ Use of `ipywidgets`** | ✅ Used effectively in all parts, enhances interactivity. | ⚠️ Used in most parts but minor inefficiencies. | ❌ Implemented but not fully functional. | 🚫 Attempted but not used correctly. | ❌ No implementation. |\n",
        "| **📂 GitHub Submission & Documentation** | ✅ Well-structured repo, proper `README.md`. | ⚠️ Repo exists but lacks structured documentation. | ❌ Basic submission, missing details. | 🚫 Attempted but incomplete. | ❌ No submission. |\n",
        "| **📤 Google Classroom Submission** | ✅ Submitted correctly with all required elements. | ⚠️ Submitted but missing minor details. | ❌ Late submission or incomplete. | 🚫 Attempted but missing key parts. | ❌ No submission. |\n",
        "| **🔎 Overall Implementation & Accuracy** | ✅ All features implemented correctly, runs smoothly. | ⚠️ Most features implemented, minor issues. | ❌ Some features missing but basic functionality works. | 🚫 Major features missing. | ❌ No implementation. |\n",
        "\n",
        "---\n",
        "\n"
      ],
      "metadata": {
        "id": "E2rlRDSuPPRt"
      }
    },
    {
      "cell_type": "markdown",
      "source": [
        "*Follow the deadline. This is an individual assignment. Do not copy/paste from LLMs or from other students.*"
      ],
      "metadata": {
        "id": "-_kwwSB6PiZp"
      }
    }
  ]
}